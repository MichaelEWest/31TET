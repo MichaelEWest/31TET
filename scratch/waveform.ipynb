{
 "cells": [
  {
   "cell_type": "code",
   "execution_count": 24,
   "metadata": {},
   "outputs": [],
   "source": [
    "import wave\n",
    "import numpy as np\n",
    "\n",
    "def generate_sine_wave(frequency, duration, amplitude=0.5, sampling_rate=44100):\n",
    "    # Generate time values\n",
    "    t = np.linspace(0, duration, int(sampling_rate * duration), endpoint=False)\n",
    "\n",
    "    # Generate sine wave\n",
    "    wave_data = amplitude * np.sin(2 * np.pi * frequency * t)\n",
    "\n",
    "    return wave_data\n",
    "\n",
    "def save_wave_file(file_path, wave_data, sampling_rate=44100):\n",
    "    with wave.open(file_path, 'w') as wave_file:\n",
    "        wave_file.setnchannels(1)  # Mono audio\n",
    "        wave_file.setsampwidth(2)  # 16-bit audio\n",
    "        wave_file.setframerate(sampling_rate)\n",
    "        wave_file.writeframes(np.array(wave_data * 32767, dtype=np.int16).tobytes())\n",
    "\n",
    "# Set parameters\n",
    "frequency = 440  # 440 Hz\n",
    "duration = 3.0  # 3 seconds\n",
    "amplitude = 0.5\n",
    "\n",
    "# Generate sine wave\n",
    "wave_data = generate_sine_wave(frequency, duration, amplitude)\n",
    "\n",
    "# Save wave file\n",
    "save_wave_file('440hz_note.wav', wave_data)\n",
    "\n"
   ]
  },
  {
   "cell_type": "code",
   "execution_count": 19,
   "metadata": {},
   "outputs": [],
   "source": [
    "scalelist = [frequency*(2**(1/13))**(step) for step in range(13)]"
   ]
  },
  {
   "cell_type": "code",
   "execution_count": 14,
   "metadata": {},
   "outputs": [
    {
     "data": {
      "text/plain": [
       "[440.0,\n",
       " 466.1637615180899,\n",
       " 493.8833012561241,\n",
       " 523.2511306011974,\n",
       " 554.3652619537443,\n",
       " 587.3295358348153,\n",
       " 622.253967444162,\n",
       " 659.2551138257401,\n",
       " 698.456462866008,\n",
       " 739.988845423269,\n",
       " 783.990871963499,\n",
       " 830.6093951598907,\n",
       " 880.0000000000003]"
      ]
     },
     "execution_count": 14,
     "metadata": {},
     "output_type": "execute_result"
    }
   ],
   "source": [
    "scalelist"
   ]
  },
  {
   "cell_type": "code",
   "execution_count": 17,
   "metadata": {},
   "outputs": [
    {
     "data": {
      "text/plain": [
       "132300"
      ]
     },
     "execution_count": 17,
     "metadata": {},
     "output_type": "execute_result"
    }
   ],
   "source": []
  },
  {
   "cell_type": "code",
   "execution_count": null,
   "metadata": {},
   "outputs": [],
   "source": []
  }
 ],
 "metadata": {
  "kernelspec": {
   "display_name": "Python 3",
   "language": "python",
   "name": "python3"
  },
  "language_info": {
   "codemirror_mode": {
    "name": "ipython",
    "version": 3
   },
   "file_extension": ".py",
   "mimetype": "text/x-python",
   "name": "python",
   "nbconvert_exporter": "python",
   "pygments_lexer": "ipython3",
   "version": "3.12.1"
  }
 },
 "nbformat": 4,
 "nbformat_minor": 2
}
